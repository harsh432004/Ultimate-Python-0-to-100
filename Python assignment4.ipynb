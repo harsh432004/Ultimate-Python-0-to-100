{
 "cells": [
  {
   "cell_type": "markdown",
   "metadata": {
    "collapsed": false
   },
   "source": [
    "# || Student Name : Harsh Vaidya  ||\n",
    "# || Notebook Topic : Basic conditional statements in python  ||\n",
    "# || University Name : GSFC UNIVERSITY  ||\n",
    "-------------------------------------------------------------------------------"
   ]
  },
  {
   "cell_type": "markdown",
   "metadata": {
    "collapsed": false
   },
   "source": [
    "# QUESTION : 1"
   ]
  },
  {
   "cell_type": "code",
   "execution_count": 1,
   "metadata": {
    "ExecuteTime": {
     "end_time": "2023-04-21T16:58:58.283250Z",
     "start_time": "2023-04-21T16:58:55.204623Z"
    },
    "collapsed": true
   },
   "outputs": [
    {
     "name": "stdout",
     "output_type": "stream",
     "text": [
      "--> Output of for loop :\n",
      "\n",
      "dict_keys(['name', 'class', 'topic'])\n",
      "Value of  name  :  puru\n",
      "Value of  class  :  data science masters\n",
      "Value of  topic  :  ['python', 'stats', 'machine learning', 'deep learning', 'computer vision', 'NLP', 'resume', 'interview preparation']\n",
      "'For' loop executed successfully !\n",
      "\n",
      "--> Output of while loop :\n",
      "\n",
      "You have entered :  5 \n",
      "Below is the Fibonacci series you are looking for -->\n",
      "0\n",
      "1\n",
      "1\n",
      "2\n",
      "3\n",
      "'While' loop executed successfully !\n",
      "\n",
      "Just printing to remove comment lines from the console.\n"
     ]
    }
   ],
   "source": [
    "'''Ques 1. Explain with an example each when to use a for loop and a while loop.\n",
    "\n",
    "Ans. 'for' loop :\n",
    "A for loop is used when we know how many times we need to iterate over a block of code.\n",
    "It works by initializing a variable to a certain value and then incrementing or decrementing it with each iteration until a certain condition is met.\n",
    "\n",
    "Below is an example of a for loop which prints the key values of a dictionary that I have created : '''\n",
    "\n",
    "# code line goes here :\n",
    "\n",
    "print(\"--> Output of for loop :\\n\")\n",
    "\n",
    "d = {'name' : 'puru', 'class' : 'data science masters', 'topic' : ['python', 'stats', 'machine learning', 'deep learning', 'computer vision', 'NLP', 'resume', 'interview preparation']}\n",
    "\n",
    "print(d.keys())\n",
    "for i in d.keys() :\n",
    "    print(\"Value of \", i, \" : \", d[i])\n",
    "\n",
    "print(\"'For' loop executed successfully !\\n\")\n",
    "\n",
    "'''In this example, the for loop will iterate 3 times because we know that we want to print the key values of the dictionary.\n",
    "------------------------------------------------------------------------------------------------------------------------------------------------------------------\n",
    "\n",
    "'while' loop :\n",
    "A while loop is used when we don't know how many times we need to iterate over a block of code.\n",
    "It works by repeatedly executing a block of code as long as a certain condition is true.\n",
    "\n",
    "Below is an example of a while loop that prints the Fibonacci sequence up to a certain limit : '''\n",
    "\n",
    "# code line goes here :\n",
    "\n",
    "print(\"--> Output of while loop :\\n\")\n",
    "\n",
    "number = int(input(\"Enter the number of elements you are looking for to find it's Fibonacci Series : \"))\n",
    "print(\"You have entered : \", number, \"\\nBelow is the Fibonacci series you are looking for -->\")\n",
    "\n",
    "a , b = 0 , 1\n",
    "counter = 0\n",
    "\n",
    "while counter < number :\n",
    "    print(a)\n",
    "    c = a + b\n",
    "    a = b\n",
    "    b = c\n",
    "    counter = counter + 1\n",
    "\n",
    "print(\"'While' loop executed successfully !\")\n",
    "\n",
    "'''In this example, the while loop will keep executing as long as counter is less than number.\n",
    "It repeatedly calculates the next number in the Fibonacci sequence (a + b) and prints it to the console.\n",
    "The loop will keep executing until counter is greater than or equal to number, at which point the loop will terminate.\n",
    "Since we don't know how many numbers we'll need to print to reach the limit, therefore a while loop is the appropriate choice for this operation. '''\n",
    "\n",
    "print(\"\\nJust printing to remove comment lines from the console.\")"
   ]
  },
  {
   "cell_type": "markdown",
   "metadata": {
    "collapsed": false
   },
   "source": [
    "# QUESTION : 2"
   ]
  },
  {
   "cell_type": "code",
   "execution_count": 2,
   "metadata": {
    "ExecuteTime": {
     "end_time": "2023-04-21T16:58:58.283250Z",
     "start_time": "2023-04-21T16:58:58.190934Z"
    },
    "collapsed": false
   },
   "outputs": [
    {
     "name": "stdout",
     "output_type": "stream",
     "text": [
      "Sum and Product of first 10 natural numbers using for loop --> \n",
      "Sum of first 10 natural numbers is :  55\n",
      "Product of first 10 natural numbers is :  3628800\n",
      "\n",
      "Sum and Product of first 10 natural numbers using while loop --> \n",
      "Sum of first 10 natural numbers is :  55\n",
      "Product of first 10 natural numbers is :  3628800\n"
     ]
    },
    {
     "data": {
      "text/plain": [
       "'Both programs use the same logic. They initialize the sum and product variables to 0 and 1 respectively.\\nThen loop through the first 10 natural numbers and calculate their sum and product by adding and multiplying them to the sum and product variables.\\nFinally, they print the results. '"
      ]
     },
     "execution_count": 2,
     "metadata": {},
     "output_type": "execute_result"
    }
   ],
   "source": [
    "'''Ques 2. Write a python program to print the sum and product of the first 10 natural numbers using for and while loop.\n",
    "\n",
    "Ans. Below is a Python program that prints the sum and product of the first 10 natural numbers using a for loop : '''\n",
    "# Code line goes here :\n",
    "\n",
    "print(\"Sum and Product of first 10 natural numbers using for loop --> \")\n",
    "sum = 0\n",
    "product = 1\n",
    "\n",
    "for i in range(1, 11) :\n",
    "    sum = sum + i\n",
    "    product = product * i\n",
    "\n",
    "print(\"Sum of first 10 natural numbers is : \", sum)\n",
    "print(\"Product of first 10 natural numbers is : \", product)\n",
    "\n",
    "''' ------------------------------------------------------------------------------------------------------------------------------------------------------------------\n",
    "\n",
    "Below is a Python program that prints the sum and product of the first 10 natural numbers using a while loop : '''\n",
    "# Code line goes here :\n",
    "\n",
    "print(\"\\nSum and Product of first 10 natural numbers using while loop --> \")\n",
    "sum = 0\n",
    "product = 1\n",
    "i = 1\n",
    "\n",
    "while i <= 10:\n",
    "    sum = sum + i\n",
    "    product = product * i\n",
    "    i = i + 1\n",
    "\n",
    "print(\"Sum of first 10 natural numbers is : \", sum)\n",
    "print(\"Product of first 10 natural numbers is : \", product)\n",
    "\n",
    "'''Both programs use the same logic. They initialize the sum and product variables to 0 and 1 respectively.\n",
    "Then loop through the first 10 natural numbers and calculate their sum and product by adding and multiplying them to the sum and product variables.\n",
    "Finally, they print the results. '''"
   ]
  },
  {
   "cell_type": "markdown",
   "metadata": {
    "collapsed": false
   },
   "source": [
    "# QUESTION : 3"
   ]
  },
  {
   "cell_type": "code",
   "execution_count": 3,
   "metadata": {
    "ExecuteTime": {
     "end_time": "2023-04-21T16:59:01.179002Z",
     "start_time": "2023-04-21T16:58:58.267633Z"
    },
    "collapsed": false
   },
   "outputs": [
    {
     "name": "stdout",
     "output_type": "stream",
     "text": [
      "You have consumed total 101 units. \n",
      "Hence, your Electricity bill is : Rs. 456.0\n"
     ]
    }
   ],
   "source": [
    "'''Ques 3. Create a python program to compute the electricity bill for a household. The per-unit charges in rupees are as follows :\n",
    "For the first 100 units, the user will be charged Rs. 4.5 per unit,\n",
    "For the next 100 units, the user will be charged Rs. 6 per unit, and\n",
    "For the next 100 units, the user will be charged Rs. 10 per unit.\n",
    "\n",
    "After 300 units and above the user will be charged Rs. 20 per unit. You are required to take the units of electricity consumed in a month from the user as input.\n",
    "Your program must pass this test case: when the unit of electricity consumed by the user in a month is 310, the total electricity bill should be 2250.\n",
    "\n",
    "Ans. Below is a Python program that calculates the electricity bill for a household based on the per-unit charges mentioned in the problem statement : '''\n",
    "\n",
    "# Code line goes here :\n",
    "\n",
    "units = int(input(\"Enter the number of units consumed : \"))\n",
    "\n",
    "if units <= 100 :\n",
    "    bill = units * 4.5\n",
    "elif units <= 200 :\n",
    "    bill = 100 * 4.5 + (units - 100) * 6\n",
    "elif units <= 300:\n",
    "    bill = 100 * 4.5 + 100 * 6 + (units - 200) * 10\n",
    "else:\n",
    "    bill = 100 * 4.5 + 100 * 6 + 100 * 10 + (units - 300) * 20\n",
    "\n",
    "print(\"You have consumed total\", units, \"units. \\nHence, your Electricity bill is : Rs.\", bill)\n"
   ]
  },
  {
   "cell_type": "markdown",
   "metadata": {
    "collapsed": false
   },
   "source": [
    "# QUESTION : 4"
   ]
  },
  {
   "cell_type": "code",
   "execution_count": 4,
   "metadata": {
    "ExecuteTime": {
     "end_time": "2023-04-21T16:59:01.300810Z",
     "start_time": "2023-04-21T16:59:01.191428Z"
    },
    "collapsed": false
   },
   "outputs": [
    {
     "name": "stdout",
     "output_type": "stream",
     "text": [
      "List of cubes of numbers from 1 to 100 and numbers whose cubes are divisible by 4 or 5 using 'For Loop' --> \n",
      "\n",
      "Cubes of numbers from 1 to 100 : [1, 8, 27, 64, 125, 216, 343, 512, 729, 1000, 1331, 1728, 2197, 2744, 3375, 4096, 4913, 5832, 6859, 8000, 9261, 10648, 12167, 13824, 15625, 17576, 19683, 21952, 24389, 27000, 29791, 32768, 35937, 39304, 42875, 46656, 50653, 54872, 59319, 64000, 68921, 74088, 79507, 85184, 91125, 97336, 103823, 110592, 117649, 125000, 132651, 140608, 148877, 157464, 166375, 175616, 185193, 195112, 205379, 216000, 226981, 238328, 250047, 262144, 274625, 287496, 300763, 314432, 328509, 343000, 357911, 373248, 389017, 405224, 421875, 438976, 456533, 474552, 493039, 512000, 531441, 551368, 571787, 592704, 614125, 636056, 658503, 681472, 704969, 729000, 753571, 778688, 804357, 830584, 857375, 884736, 912673, 941192, 970299, 1000000]\n",
      "\n",
      "Numbers whose cubes are divisible by 4 or 5 :  [2, 4, 5, 6, 8, 10, 12, 14, 15, 16, 18, 20, 22, 24, 25, 26, 28, 30, 32, 34, 35, 36, 38, 40, 42, 44, 45, 46, 48, 50, 52, 54, 55, 56, 58, 60, 62, 64, 65, 66, 68, 70, 72, 74, 75, 76, 78, 80, 82, 84, 85, 86, 88, 90, 92, 94, 95, 96, 98, 100]\n",
      "\n",
      "List of cubes of numbers from 1 to 100 and numbers whose cubes are divisible by 4 or 5 using 'While Loop' --> \n",
      "\n",
      "Cubes of numbers from 1 to 100 : [1, 8, 27, 64, 125, 216, 343, 512, 729, 1000, 1331, 1728, 2197, 2744, 3375, 4096, 4913, 5832, 6859, 8000, 9261, 10648, 12167, 13824, 15625, 17576, 19683, 21952, 24389, 27000, 29791, 32768, 35937, 39304, 42875, 46656, 50653, 54872, 59319, 64000, 68921, 74088, 79507, 85184, 91125, 97336, 103823, 110592, 117649, 125000, 132651, 140608, 148877, 157464, 166375, 175616, 185193, 195112, 205379, 216000, 226981, 238328, 250047, 262144, 274625, 287496, 300763, 314432, 328509, 343000, 357911, 373248, 389017, 405224, 421875, 438976, 456533, 474552, 493039, 512000, 531441, 551368, 571787, 592704, 614125, 636056, 658503, 681472, 704969, 729000, 753571, 778688, 804357, 830584, 857375, 884736, 912673, 941192, 970299, 1000000]\n",
      "\n",
      "Numbers whose cubes are divisible by 4 or 5 : [2, 4, 5, 6, 8, 10, 12, 14, 15, 16, 18, 20, 22, 24, 25, 26, 28, 30, 32, 34, 35, 36, 38, 40, 42, 44, 45, 46, 48, 50, 52, 54, 55, 56, 58, 60, 62, 64, 65, 66, 68, 70, 72, 74, 75, 76, 78, 80, 82, 84, 85, 86, 88, 90, 92, 94, 95, 96, 98, 100]\n"
     ]
    }
   ],
   "source": [
    "'''Ques 4. Create a list of numbers from 1 to 100. Use for loop and while loop to calculate the cube of each number and if the cube of that number is divisible by 4 or 5 then append that number in a list and print that list.\n",
    "\n",
    "Ans. Below is the Python program that generates a list of cubes of numbers from 1 to 100 and appends the numbers whose cubes are divisible by either 4 or 5 into a separate list using for loop : '''\n",
    "# Code line goes here :\n",
    "\n",
    "print(\"List of cubes of numbers from 1 to 100 and numbers whose cubes are divisible by 4 or 5 using 'For Loop' --> \\n\")\n",
    "cubes = []\n",
    "divisible_by_4_or_5 = []\n",
    "\n",
    "for i in range(1, 101) :\n",
    "    cube = i ** 3\n",
    "    cubes.append(cube)\n",
    "    if cube % 4 == 0 or cube % 5 == 0 :\n",
    "        divisible_by_4_or_5.append(i)\n",
    "\n",
    "print(\"Cubes of numbers from 1 to 100 :\", cubes)\n",
    "print(\"\\nNumbers whose cubes are divisible by 4 or 5 : \", divisible_by_4_or_5)\n",
    "\n",
    "''' ------------------------------------------------------------------------------------------------------------------------------------------------------------------\n",
    "\n",
    "Below is the Python program that generates a list of cubes of numbers from 1 to 100 and appends the numbers whose cubes are divisible by either 4 or 5 into a separate list using while loop : '''\n",
    "# Code line goes here :\n",
    "\n",
    "print(\"\\nList of cubes of numbers from 1 to 100 and numbers whose cubes are divisible by 4 or 5 using 'While Loop' --> \\n\")\n",
    "cubes = []\n",
    "divisible_by_4_or_5 = []\n",
    "i = 1\n",
    "\n",
    "while i <= 100 :\n",
    "    cube = i ** 3\n",
    "    cubes.append(cube)\n",
    "    if cube % 4 == 0 or cube % 5 == 0 :\n",
    "        divisible_by_4_or_5.append(i)\n",
    "    i = i + 1\n",
    "\n",
    "print(\"Cubes of numbers from 1 to 100 :\", cubes)\n",
    "print(\"\\nNumbers whose cubes are divisible by 4 or 5 :\", divisible_by_4_or_5)"
   ]
  },
  {
   "cell_type": "markdown",
   "metadata": {
    "collapsed": false
   },
   "source": [
    "# QUESTION : 5"
   ]
  },
  {
   "cell_type": "code",
   "execution_count": 5,
   "metadata": {
    "ExecuteTime": {
     "end_time": "2023-04-21T16:59:01.347698Z",
     "start_time": "2023-04-21T16:59:01.222697Z"
    },
    "collapsed": false
   },
   "outputs": [
    {
     "name": "stdout",
     "output_type": "stream",
     "text": [
      "Program to count vowels in a string --> \n",
      "\n",
      "Given String : I want to become a data scientist\n",
      "Number of vowels in the String : 12\n",
      "\n",
      "--> Just printing to remove comment lines from the console.\n"
     ]
    }
   ],
   "source": [
    "'''Ques 5. Write a program to filter count vowels in the below-given string.\n",
    "string = \"I want to become a data scientist\"\n",
    "\n",
    "Ans. Below is the Python program that filters and counts the vowels in the given string: '''\n",
    "# Code line goes here :\n",
    "\n",
    "print(\"Program to count vowels in a string --> \\n\")\n",
    "string = \"I want to become a data scientist\"\n",
    "vowels = \"aeiouAEIOU\"\n",
    "count = 0\n",
    "\n",
    "for char in string :\n",
    "    if char in vowels :\n",
    "        count = count + 1\n",
    "\n",
    "print(\"Given String :\", string)\n",
    "print(\"Number of vowels in the String :\", count)\n",
    "\n",
    "'''The program first defines the given string and a string of vowels. It then uses a for loop to iterate through each character in the string. If the character is a vowel, it increments the count by 1. Finally, it prints the count to the console.\n",
    "\n",
    "In this case, the program counts 12 vowels in the given string \"I want to become a data scientist\". '''\n",
    "\n",
    "print(\"\\n--> Just printing to remove comment lines from the console.\")"
   ]
  },
  {
   "cell_type": "code",
   "execution_count": 5,
   "metadata": {
    "ExecuteTime": {
     "end_time": "2023-04-21T16:59:01.363311Z",
     "start_time": "2023-04-21T16:59:01.300810Z"
    },
    "collapsed": false
   },
   "outputs": [],
   "source": []
  }
 ],
 "metadata": {
  "kernelspec": {
   "display_name": "Python 3",
   "language": "python",
   "name": "python3"
  },
  "language_info": {
   "codemirror_mode": {
    "name": "ipython",
    "version": 2
   },
   "file_extension": ".py",
   "mimetype": "text/x-python",
   "name": "python",
   "nbconvert_exporter": "python",
   "pygments_lexer": "ipython2",
   "version": "2.7.6"
  }
 },
 "nbformat": 4,
 "nbformat_minor": 0
}
