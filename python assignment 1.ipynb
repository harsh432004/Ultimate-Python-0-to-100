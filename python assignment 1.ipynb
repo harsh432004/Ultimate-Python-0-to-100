{
 "cells": [
  {
   "cell_type": "markdown",
   "metadata": {},
   "source": [
    "# || PYTHON COMPLETE 0 TO 100 \"DAY 1\" ||"
   ]
  },
  {
   "cell_type": "markdown",
   "metadata": {
    "collapsed": false
   },
   "source": [
    "# || Student Name : Harsh Vaidya  ||\n",
    "# || Notebook Topic : Basic conditional statements in python  ||\n",
    "# || University Name : GSFC UNIVERSITY  ||\n",
    "-------------------------------------------------------------------------------"
   ]
  },
  {
   "cell_type": "markdown",
   "metadata": {
    "collapsed": false
   },
   "source": [
    "# QUESTION : 1"
   ]
  },
  {
   "cell_type": "code",
   "execution_count": 1,
   "metadata": {
    "ExecuteTime": {
     "end_time": "2023-04-21T05:00:59.452204Z",
     "start_time": "2023-04-21T05:00:58.616853Z"
    },
    "collapsed": true
   },
   "outputs": [
    {
     "data": {
      "text/plain": [
       "' Ques 1. Who developed Python Programming Language ?\\n\\nAns. Python programming language was developed by Guido van Rossum in the late 1980s, and its first public release was in 1991. Guido van Rossum named it after the British comedy group Monty Python. '"
      ]
     },
     "execution_count": 1,
     "metadata": {},
     "output_type": "execute_result"
    }
   ],
   "source": [
    "''' Ques 1. Who developed Python Programming Language ?\n",
    "\n",
    "Ans. Python programming language was developed by Guido van Rossum in the late 1980s, and its first public release was in 1991. Guido van Rossum named it after the British comedy group Monty Python. '''\n"
   ]
  },
  {
   "cell_type": "markdown",
   "metadata": {
    "collapsed": false
   },
   "source": [
    "# QUESTION : 2"
   ]
  },
  {
   "cell_type": "code",
   "execution_count": 2,
   "metadata": {
    "ExecuteTime": {
     "end_time": "2023-04-21T05:00:59.497135Z",
     "start_time": "2023-04-21T05:00:58.652113Z"
    },
    "collapsed": false
   },
   "outputs": [
    {
     "data": {
      "text/plain": [
       "' Ques 2. Which type of programming does Python support ?\\n\\nAns. Python supports multiple programming paradigms, including object-oriented, functional, procedural, and aspect-oriented programming.\\nThis makes it a versatile language that can be used for a variety of tasks, from web development to scientific computing, machine learning, and data analysis.\\nIt also has a simple and easy-to-learn syntax, making it an ideal language for beginners to start with. '"
      ]
     },
     "execution_count": 2,
     "metadata": {},
     "output_type": "execute_result"
    }
   ],
   "source": [
    "''' Ques 2. Which type of programming does Python support ?\n",
    "\n",
    "Ans. Python supports multiple programming paradigms, including object-oriented, functional, procedural, and aspect-oriented programming.\n",
    "This makes it a versatile language that can be used for a variety of tasks, from web development to scientific computing, machine learning, and data analysis.\n",
    "It also has a simple and easy-to-learn syntax, making it an ideal language for beginners to start with. '''"
   ]
  },
  {
   "cell_type": "markdown",
   "metadata": {
    "collapsed": false
   },
   "source": [
    "# QUESTION : 3"
   ]
  },
  {
   "cell_type": "code",
   "execution_count": 3,
   "metadata": {
    "ExecuteTime": {
     "end_time": "2023-04-21T05:00:59.497135Z",
     "start_time": "2023-04-21T05:00:58.717034Z"
    },
    "collapsed": false
   },
   "outputs": [
    {
     "data": {
      "text/plain": [
       "' Ques 3. Is python case sensitive when dealing with identifiers ?\\n\\nAns. Yes, Python is case-sensitive when dealing with identifiers. This means that uppercase and lowercase letters are considered different in Python.\\n\\nFor example, the variable names \"my_variable\" and \"My_Variable\" would be considered two different variables in Python.\\nIt\\'s important to be consistent with our naming conventions to avoid errors when working with identifiers in Python. '"
      ]
     },
     "execution_count": 3,
     "metadata": {},
     "output_type": "execute_result"
    }
   ],
   "source": [
    "''' Ques 3. Is python case sensitive when dealing with identifiers ?\n",
    "\n",
    "Ans. Yes, Python is case-sensitive when dealing with identifiers. This means that uppercase and lowercase letters are considered different in Python.\n",
    "\n",
    "For example, the variable names \"my_variable\" and \"My_Variable\" would be considered two different variables in Python.\n",
    "It's important to be consistent with our naming conventions to avoid errors when working with identifiers in Python. '''"
   ]
  },
  {
   "cell_type": "markdown",
   "metadata": {
    "collapsed": false
   },
   "source": [
    "# QUESTION : 4"
   ]
  },
  {
   "cell_type": "code",
   "execution_count": 4,
   "metadata": {
    "ExecuteTime": {
     "end_time": "2023-04-21T05:00:59.565232Z",
     "start_time": "2023-04-21T05:00:59.565232Z"
    },
    "collapsed": false
   },
   "outputs": [
    {
     "data": {
      "text/plain": [
       "' Ques 4. What is the correct extension of the Python file ?\\n\\nAns. The correct extension of a Python file is \".py\". When we save a Python script or program, we should give it a name and save it with the \".py\" extension.\\n\\nFor example, if we have a Python script called \"my_script\", then we should save it as \"my_script.py\". This extension helps to identify the file as a Python script and allows the Python interpreter to recognize and execute it properly. '"
      ]
     },
     "execution_count": 4,
     "metadata": {},
     "output_type": "execute_result"
    }
   ],
   "source": [
    "''' Ques 4. What is the correct extension of the Python file ?\n",
    "\n",
    "Ans. The correct extension of a Python file is \".py\". When we save a Python script or program, we should give it a name and save it with the \".py\" extension.\n",
    "\n",
    "For example, if we have a Python script called \"my_script\", then we should save it as \"my_script.py\". This extension helps to identify the file as a Python script and allows the Python interpreter to recognize and execute it properly. '''"
   ]
  },
  {
   "cell_type": "markdown",
   "metadata": {
    "collapsed": false
   },
   "source": [
    "# QUESTION : 5"
   ]
  },
  {
   "cell_type": "code",
   "execution_count": 5,
   "metadata": {
    "ExecuteTime": {
     "end_time": "2023-04-21T05:00:59.616967Z",
     "start_time": "2023-04-21T05:00:58.722114Z"
    },
    "collapsed": false
   },
   "outputs": [
    {
     "data": {
      "text/plain": [
       "\" Ques 5. Is Python Code compiled or Interpreted ?\\n\\nAns. Python code is interpreted, which means that the source code is executed directly by the Python interpreter without being compiled into machine code beforehand. When we run a Python program, the interpreter reads the code line by line and executes each line as it goes. This makes the development process faster because we don't need to compile our code before running it.\\nHowever, this also means that Python can be slower than compiled languages like C++ for certain types of tasks. To address this issue, there are tools like PyPy and Numba that can speed up certain parts of Python code by using just-in-time (JIT) compilation or other techniques. \""
      ]
     },
     "execution_count": 5,
     "metadata": {},
     "output_type": "execute_result"
    }
   ],
   "source": [
    "''' Ques 5. Is Python Code compiled or Interpreted ?\n",
    "\n",
    "Ans. Python code is interpreted, which means that the source code is executed directly by the Python interpreter without being compiled into machine code beforehand. When we run a Python program, the interpreter reads the code line by line and executes each line as it goes. This makes the development process faster because we don't need to compile our code before running it.\n",
    "However, this also means that Python can be slower than compiled languages like C++ for certain types of tasks. To address this issue, there are tools like PyPy and Numba that can speed up certain parts of Python code by using just-in-time (JIT) compilation or other techniques. '''"
   ]
  },
  {
   "cell_type": "markdown",
   "metadata": {
    "collapsed": false
   },
   "source": [
    "# QUESTION : 6"
   ]
  },
  {
   "cell_type": "code",
   "execution_count": 6,
   "metadata": {
    "ExecuteTime": {
     "end_time": "2023-04-21T05:00:59.652096Z",
     "start_time": "2023-04-21T05:00:58.751775Z"
    },
    "collapsed": false
   },
   "outputs": [
    {
     "data": {
      "text/plain": [
       "' Ques 6. Name few blocks of code used to define in Python language ?\\n\\nAns. In Python, code blocks are defined using indentation rather than braces or other delimiters. The following are some of the most common types of code blocks used in Python:\\n\\n1. Function blocks: Functions in Python are defined using the \"def\" keyword, followed by the function name and its arguments. The code block for the function is indented under the function definition and the code should be executed when the function is called.\\nFor example:\\ndef my_function(argument1, argument2):\\n\\n2. Conditional blocks: Conditional statements in Python, such as \"if\", \"elif\", and \"else\", are used to execute different code blocks based on the result of a Boolean expression. The code block for each branch of the conditional is indented under the relevant keyword.\\nFor example:\\nif x > 0:\\n# Code to be executed if x is greater than 0\\nelif x == 0:\\n# Code to be executed if x is equal to 0\\nelse:\\n# Code to be executed if x is less than 0\\n\\n3. Loop blocks: Loops in Python, such as \"for\" and \"while\", are used to execute a block of code repeatedly. The code block for the loop is indented under the loop definition.\\nFor example:\\nfor i in range(10):\\n# Code to be executed for each value of i in the range 0 to 9\\n\\nwhile x > 0:\\n# Code to be executed as long as x is greater than 0\\n\\n4. Class blocks: Classes in Python are defined using the \"class\" keyword, followed by the class name and any base classes. The code block for the class is indented under the class definition.\\n\\n5. With blocks: The \"with\" statement in Python is used to manage resources like files, sockets, and locks, and ensures that they are properly closed or released when the block is exited. The code block for the \"with\" statement is indented under the statement itself.\\n\\nThese are just a few examples of code blocks used in Python. There are many other types of blocks, such as try/except blocks for handling errors among others. '"
      ]
     },
     "execution_count": 6,
     "metadata": {},
     "output_type": "execute_result"
    }
   ],
   "source": [
    "''' Ques 6. Name few blocks of code used to define in Python language ?\n",
    "\n",
    "Ans. In Python, code blocks are defined using indentation rather than braces or other delimiters. The following are some of the most common types of code blocks used in Python:\n",
    "\n",
    "1. Function blocks: Functions in Python are defined using the \"def\" keyword, followed by the function name and its arguments. The code block for the function is indented under the function definition and the code should be executed when the function is called.\n",
    "For example:\n",
    "def my_function(argument1, argument2):\n",
    "\n",
    "2. Conditional blocks: Conditional statements in Python, such as \"if\", \"elif\", and \"else\", are used to execute different code blocks based on the result of a Boolean expression. The code block for each branch of the conditional is indented under the relevant keyword.\n",
    "For example:\n",
    "if x > 0:\n",
    "# Code to be executed if x is greater than 0\n",
    "elif x == 0:\n",
    "# Code to be executed if x is equal to 0\n",
    "else:\n",
    "# Code to be executed if x is less than 0\n",
    "\n",
    "3. Loop blocks: Loops in Python, such as \"for\" and \"while\", are used to execute a block of code repeatedly. The code block for the loop is indented under the loop definition.\n",
    "For example:\n",
    "for i in range(10):\n",
    "# Code to be executed for each value of i in the range 0 to 9\n",
    "\n",
    "while x > 0:\n",
    "# Code to be executed as long as x is greater than 0\n",
    "\n",
    "4. Class blocks: Classes in Python are defined using the \"class\" keyword, followed by the class name and any base classes. The code block for the class is indented under the class definition.\n",
    "\n",
    "5. With blocks: The \"with\" statement in Python is used to manage resources like files, sockets, and locks, and ensures that they are properly closed or released when the block is exited. The code block for the \"with\" statement is indented under the statement itself.\n",
    "\n",
    "These are just a few examples of code blocks used in Python. There are many other types of blocks, such as try/except blocks for handling errors among others. '''"
   ]
  },
  {
   "cell_type": "markdown",
   "metadata": {
    "collapsed": false
   },
   "source": [
    "# QUESTION : 7"
   ]
  },
  {
   "cell_type": "code",
   "execution_count": 7,
   "metadata": {
    "ExecuteTime": {
     "end_time": "2023-04-21T05:00:59.665268Z",
     "start_time": "2023-04-21T05:00:58.782065Z"
    },
    "collapsed": false
   },
   "outputs": [
    {
     "data": {
      "text/plain": [
       "' Ans. In Python, the # character is used to give single-line comments. Any text that appears after the # symbol on a line is considered a comment and is ignored by the Python interpreter.\\n\\nFor example:\\n# I have used single line comment in this question statement.\\n\\nSingle-line comments are useful for providing context and explanations for our code, as well as temporarily disabling or commenting out lines of code for testing or debugging purposes. '"
      ]
     },
     "execution_count": 7,
     "metadata": {},
     "output_type": "execute_result"
    }
   ],
   "source": [
    "# Ques 7. State a character used to give single-line comments in Python ?\n",
    "\n",
    "''' Ans. In Python, the # character is used to give single-line comments. Any text that appears after the # symbol on a line is considered a comment and is ignored by the Python interpreter.\n",
    "\n",
    "For example:\n",
    "# I have used single line comment in this question statement.\n",
    "\n",
    "Single-line comments are useful for providing context and explanations for our code, as well as temporarily disabling or commenting out lines of code for testing or debugging purposes. '''"
   ]
  },
  {
   "cell_type": "markdown",
   "metadata": {
    "collapsed": false
   },
   "source": [
    "# QUESTION : 8"
   ]
  },
  {
   "cell_type": "code",
   "execution_count": 8,
   "metadata": {
    "ExecuteTime": {
     "end_time": "2023-04-21T05:00:59.665268Z",
     "start_time": "2023-04-21T05:00:58.811773Z"
    },
    "collapsed": false
   },
   "outputs": [
    {
     "data": {
      "text/plain": [
       "\" Ques 8. Mention functions which can help us to find the version of python that we are currently working on ?\\n\\nAns. In Python, there are several ways to find the version of the Python interpreter that we are currently working on. Below are a few examples of functions that can help us to accomplish this:\\n\\n1. sys.version - This function returns a string containing the version number of the Python interpreter, as well as additional information about the build.\\nWe can use it like this:\\n\\nimport sys\\nprint(sys.version)\\nOutput:\\n3.10.9 | packaged by Anaconda, Inc. | (main, Mar  1 2023, 18:18:15) [MSC v.1916 64 bit (AMD64)]\\n\\n2. platform.python_version() - This function returns a string containing the version number of the Python interpreter, without any additional information.\\nWe can use it like this:\\n\\nimport platform\\nprint(platform.python_version())\\nOutput:\\n3.10.9\\n\\n3. sys.version_info - This function returns a tuple containing detailed information about the version of the Python interpreter, including the major and minor version numbers, as well as the micro and release level numbers.\\n We can use it like this:\\n\\nimport sys\\nprint(sys.version_info)\\nOutput:\\nsys.version_info(major=3, minor=10, micro=9, releaselevel='final', serial=0)\\n\\nThese are just a few examples of functions that can help us find the version of Python that we are currently working on ! \""
      ]
     },
     "execution_count": 8,
     "metadata": {},
     "output_type": "execute_result"
    }
   ],
   "source": [
    "''' Ques 8. Mention functions which can help us to find the version of python that we are currently working on ?\n",
    "\n",
    "Ans. In Python, there are several ways to find the version of the Python interpreter that we are currently working on. Below are a few examples of functions that can help us to accomplish this:\n",
    "\n",
    "1. sys.version - This function returns a string containing the version number of the Python interpreter, as well as additional information about the build.\n",
    "We can use it like this:\n",
    "\n",
    "import sys\n",
    "print(sys.version)\n",
    "Output:\n",
    "3.10.9 | packaged by Anaconda, Inc. | (main, Mar  1 2023, 18:18:15) [MSC v.1916 64 bit (AMD64)]\n",
    "\n",
    "2. platform.python_version() - This function returns a string containing the version number of the Python interpreter, without any additional information.\n",
    "We can use it like this:\n",
    "\n",
    "import platform\n",
    "print(platform.python_version())\n",
    "Output:\n",
    "3.10.9\n",
    "\n",
    "3. sys.version_info - This function returns a tuple containing detailed information about the version of the Python interpreter, including the major and minor version numbers, as well as the micro and release level numbers.\n",
    " We can use it like this:\n",
    "\n",
    "import sys\n",
    "print(sys.version_info)\n",
    "Output:\n",
    "sys.version_info(major=3, minor=10, micro=9, releaselevel='final', serial=0)\n",
    "\n",
    "These are just a few examples of functions that can help us find the version of Python that we are currently working on ! '''"
   ]
  },
  {
   "cell_type": "markdown",
   "metadata": {
    "collapsed": false
   },
   "source": [
    "# QUESTION : 9"
   ]
  },
  {
   "cell_type": "code",
   "execution_count": 9,
   "metadata": {
    "ExecuteTime": {
     "end_time": "2023-04-21T05:00:59.665268Z",
     "start_time": "2023-04-21T05:00:58.841998Z"
    },
    "collapsed": false
   },
   "outputs": [
    {
     "data": {
      "text/plain": [
       "' Ques 9. Python supports the creation of anonymous functions at runtime, using a Construct called ........\\n\\nAns. Python supports the creation of anonymous functions at runtime, using a construct called \"lambda\" or \"lambda function\". The lambda function is a small, anonymous function that can have any number of arguments, but can only have one expression. It is defined using the lambda keyword, followed by the function\\'s arguments and the expression to be evaluated. Below is an example of a lambda function that takes two arguments and returns their sum:\\n\\nadd = lambda x, y: x + y\\nresult = add(3, 4)\\nprint(result)\\n# Output: 7\\n\\nLambda functions are commonly used as arguments to higher-order functions like map(), filter(), and reduce(). They can also be used as a quick way to define simple functions without giving them a name. '"
      ]
     },
     "execution_count": 9,
     "metadata": {},
     "output_type": "execute_result"
    }
   ],
   "source": [
    "''' Ques 9. Python supports the creation of anonymous functions at runtime, using a Construct called ........\n",
    "\n",
    "Ans. Python supports the creation of anonymous functions at runtime, using a construct called \"lambda\" or \"lambda function\". The lambda function is a small, anonymous function that can have any number of arguments, but can only have one expression. It is defined using the lambda keyword, followed by the function's arguments and the expression to be evaluated. Below is an example of a lambda function that takes two arguments and returns their sum:\n",
    "\n",
    "add = lambda x, y: x + y\n",
    "result = add(3, 4)\n",
    "print(result)\n",
    "# Output: 7\n",
    "\n",
    "Lambda functions are commonly used as arguments to higher-order functions like map(), filter(), and reduce(). They can also be used as a quick way to define simple functions without giving them a name. '''"
   ]
  },
  {
   "cell_type": "markdown",
   "metadata": {
    "collapsed": false
   },
   "source": [
    "# QUESTION : 10"
   ]
  },
  {
   "cell_type": "code",
   "execution_count": 10,
   "metadata": {
    "ExecuteTime": {
     "end_time": "2023-04-21T05:00:59.686997Z",
     "start_time": "2023-04-21T05:00:58.864715Z"
    },
    "collapsed": false
   },
   "outputs": [
    {
     "data": {
      "text/plain": [
       "' Ques 10. What does pip stand for python ?\\n\\nAns. In Python, pip stands for \"Pip Installs Packages\" or \"Pip Installs Python\". It is a package manager that is used to install and manage software packages (also known as \"libraries\" or \"modules\") written in Python. pip is included with most Python installations, and is used to download and install packages from the Python Package Index (PyPI) and other sources.\\nUsing pip, we can install, upgrade, and remove Python packages, as well as list installed packages and their dependencies.\\n\\nFor example, to install the popular NumPy package using pip, we can use the following command:\\npip install numpy\\n\\nThis will download and install the latest version of NumPy and its dependencies. We can then import NumPy in our Python code and use its functions and classes. '"
      ]
     },
     "execution_count": 10,
     "metadata": {},
     "output_type": "execute_result"
    }
   ],
   "source": [
    "''' Ques 10. What does pip stand for python ?\n",
    "\n",
    "Ans. In Python, pip stands for \"Pip Installs Packages\" or \"Pip Installs Python\". It is a package manager that is used to install and manage software packages (also known as \"libraries\" or \"modules\") written in Python. pip is included with most Python installations, and is used to download and install packages from the Python Package Index (PyPI) and other sources.\n",
    "Using pip, we can install, upgrade, and remove Python packages, as well as list installed packages and their dependencies.\n",
    "\n",
    "For example, to install the popular NumPy package using pip, we can use the following command:\n",
    "pip install numpy\n",
    "\n",
    "This will download and install the latest version of NumPy and its dependencies. We can then import NumPy in our Python code and use its functions and classes. '''"
   ]
  },
  {
   "cell_type": "markdown",
   "metadata": {
    "collapsed": false
   },
   "source": [
    "# QUESTION : 11"
   ]
  },
  {
   "cell_type": "code",
   "execution_count": 11,
   "metadata": {
    "ExecuteTime": {
     "end_time": "2023-04-21T05:00:59.697069Z",
     "start_time": "2023-04-21T05:00:58.902004Z"
    },
    "collapsed": false
   },
   "outputs": [
    {
     "data": {
      "text/plain": [
       "' Ques 11. Mention a few built-in functions in python ?\\n\\nAns. Python provides a large number of built-in functions that are always available to use in any Python program.\\nBelow are a few examples of some commonly used built-in functions in Python :\\n\\n1. print() - This function is used to print output to the console or terminal. It can be used to print text strings, numbers, variables, and more.\\nFor example:\\nprint(\"Hello Mentor ! \\n Nice to meet you Sir ^.^ \")\\n\\n2. len() - This function is used to get the length of a string, list, tuple, or other iterable object.\\nFor example:\\nmy_list = [1, 2, 3, 4, 5]\\nprint(len(my_list))\\n# Output : 5\\n\\n3. input() - This function is used to get input from the user via the console or terminal. It can be used to prompt the user for text or numerical input.\\nFor example:\\nname = input(\"What is your name : ?\")\\nprint(\"Hello, \" + name + \"!\")\\n\\n4. type() - This function is used to get the type of an object in Python. It can be used to check the type of a variable or value.\\nFor example:\\nx = 5\\nprint(type(x))\\n# Output : <class \\'int\\'>\\n\\n5. range() - This function is used to generate a range of numbers, which can be used in for loops or other iterations.\\nFor example:\\nfor i in range(1, 6):\\n    print(i)\\n# Output:\\n1\\n2\\n3\\n4\\n5\\n\\nThese are just a few examples of the many built-in functions available in Python. '"
      ]
     },
     "execution_count": 11,
     "metadata": {},
     "output_type": "execute_result"
    }
   ],
   "source": [
    "''' Ques 11. Mention a few built-in functions in python ?\n",
    "\n",
    "Ans. Python provides a large number of built-in functions that are always available to use in any Python program.\n",
    "Below are a few examples of some commonly used built-in functions in Python :\n",
    "\n",
    "1. print() - This function is used to print output to the console or terminal. It can be used to print text strings, numbers, variables, and more.\n",
    "For example:\n",
    "print(\"Hello Mentor ! \\n Nice to meet you Sir ^.^ \")\n",
    "\n",
    "2. len() - This function is used to get the length of a string, list, tuple, or other iterable object.\n",
    "For example:\n",
    "my_list = [1, 2, 3, 4, 5]\n",
    "print(len(my_list))\n",
    "# Output : 5\n",
    "\n",
    "3. input() - This function is used to get input from the user via the console or terminal. It can be used to prompt the user for text or numerical input.\n",
    "For example:\n",
    "name = input(\"What is your name : ?\")\n",
    "print(\"Hello, \" + name + \"!\")\n",
    "\n",
    "4. type() - This function is used to get the type of an object in Python. It can be used to check the type of a variable or value.\n",
    "For example:\n",
    "x = 5\n",
    "print(type(x))\n",
    "# Output : <class 'int'>\n",
    "\n",
    "5. range() - This function is used to generate a range of numbers, which can be used in for loops or other iterations.\n",
    "For example:\n",
    "for i in range(1, 6):\n",
    "    print(i)\n",
    "# Output:\n",
    "1\n",
    "2\n",
    "3\n",
    "4\n",
    "5\n",
    "\n",
    "These are just a few examples of the many built-in functions available in Python. '''"
   ]
  },
  {
   "cell_type": "markdown",
   "metadata": {
    "collapsed": false
   },
   "source": [
    "# QUESTION : 12"
   ]
  },
  {
   "cell_type": "code",
   "execution_count": 12,
   "metadata": {
    "ExecuteTime": {
     "end_time": "2023-04-21T05:00:59.702142Z",
     "start_time": "2023-04-21T05:00:58.932233Z"
    },
    "collapsed": false
   },
   "outputs": [
    {
     "data": {
      "text/plain": [
       "' Ques 12. What is the maximum possible length of an identifier in Python ?\\n\\nAns. In Python, the maximum possible length of an identifier (i.e., a variable name, function name, etc.) is technically unlimited. However, it is generally recommended to keep identifier names reasonably short and descriptive, to make the code more readable and easier to understand.\\n\\nAccording to the official Python documentation, an identifier can be any length and can consist of letters (uppercase and lowercase), digits, and underscores (_). However, it must begin with a letter or underscore, and it cannot be a reserved keyword (such as if, while, def, etc.) or a built-in function or module name (such as print, str, list, etc.).\\n\\nBelow is an example of a valid Python identifier with a long name:\\nthis_is_a_very_long_and_descriptive_variable_name = 16\\ntype(this_is_a_very_long_and_descriptive_variable_name)\\n# Output : int\\n\\nHowever, using such a long identifier can make the code harder to read and write, so it is generally recommended to keep identifiers shorter and more concise, while still being descriptive enough to convey their meaning. '"
      ]
     },
     "execution_count": 12,
     "metadata": {},
     "output_type": "execute_result"
    }
   ],
   "source": [
    "''' Ques 12. What is the maximum possible length of an identifier in Python ?\n",
    "\n",
    "Ans. In Python, the maximum possible length of an identifier (i.e., a variable name, function name, etc.) is technically unlimited. However, it is generally recommended to keep identifier names reasonably short and descriptive, to make the code more readable and easier to understand.\n",
    "\n",
    "According to the official Python documentation, an identifier can be any length and can consist of letters (uppercase and lowercase), digits, and underscores (_). However, it must begin with a letter or underscore, and it cannot be a reserved keyword (such as if, while, def, etc.) or a built-in function or module name (such as print, str, list, etc.).\n",
    "\n",
    "Below is an example of a valid Python identifier with a long name:\n",
    "this_is_a_very_long_and_descriptive_variable_name = 16\n",
    "type(this_is_a_very_long_and_descriptive_variable_name)\n",
    "# Output : int\n",
    "\n",
    "However, using such a long identifier can make the code harder to read and write, so it is generally recommended to keep identifiers shorter and more concise, while still being descriptive enough to convey their meaning. '''"
   ]
  },
  {
   "cell_type": "markdown",
   "metadata": {
    "collapsed": false
   },
   "source": [
    "# QUESTION : 13"
   ]
  },
  {
   "cell_type": "code",
   "execution_count": 13,
   "metadata": {
    "ExecuteTime": {
     "end_time": "2023-04-21T05:00:59.702142Z",
     "start_time": "2023-04-21T05:00:58.961961Z"
    },
    "collapsed": false
   },
   "outputs": [
    {
     "data": {
      "text/plain": [
       "\" Ques 13. What are the benefits of using Python ?\\n\\nAns. This question can not be answered in just a single line or few because Python is a very popular programming language that is used in a wide variety of applications, from web development and data analysis to scientific computing and artificial intelligence.\\n\\nBelow I am explaining some of the most significant advantages of using Python :\\n\\n1. Easy to learn and use: Python has a simple syntax that is easy to read and write, making it a great language for beginners. It also has a large standard library with many pre-built functions and modules, making it easier to write complex programs with less code.\\n\\n2. High-level language: Python is a high-level language, which means that it abstracts away many low-level details of the computer system, making it easier to focus on the problem being solved rather than the implementation details.\\n\\n3. Cross-platform: Python is a cross-platform language, which means that it can run on many different operating systems, including Windows, macOS, and Linux.\\n\\n4. Large community and ecosystem: Python has a large and active community of developers, who have contributed many third-party packages and modules that extend the language's capabilities. This means that there are many resources available for learning and using Python.\\n\\n5. Versatile: Python is a versatile language that can be used for many different purposes, including web development, scientific computing, data analysis, artificial intelligence, machine learning, and more.\\n\\n6. Interpreted language: Python is an interpreted language, which means that it can execute code without the need for a compiler. This makes it easier to develop and test code quickly.\\n\\n7. Open-source: Python is an open-source language, which means that the source code is freely available and can be modified and distributed by anyone. This encourages collaboration and innovation within the community.\\n\\nOverall, Python's ease of use, versatility, and large ecosystem make it a popular choice for a wide range of applications and industries, from education and research to finance and technology. \""
      ]
     },
     "execution_count": 13,
     "metadata": {},
     "output_type": "execute_result"
    }
   ],
   "source": [
    "''' Ques 13. What are the benefits of using Python ?\n",
    "\n",
    "Ans. This question can not be answered in just a single line or few because Python is a very popular programming language that is used in a wide variety of applications, from web development and data analysis to scientific computing and artificial intelligence.\n",
    "\n",
    "Below I am explaining some of the most significant advantages of using Python :\n",
    "\n",
    "1. Easy to learn and use: Python has a simple syntax that is easy to read and write, making it a great language for beginners. It also has a large standard library with many pre-built functions and modules, making it easier to write complex programs with less code.\n",
    "\n",
    "2. High-level language: Python is a high-level language, which means that it abstracts away many low-level details of the computer system, making it easier to focus on the problem being solved rather than the implementation details.\n",
    "\n",
    "3. Cross-platform: Python is a cross-platform language, which means that it can run on many different operating systems, including Windows, macOS, and Linux.\n",
    "\n",
    "4. Large community and ecosystem: Python has a large and active community of developers, who have contributed many third-party packages and modules that extend the language's capabilities. This means that there are many resources available for learning and using Python.\n",
    "\n",
    "5. Versatile: Python is a versatile language that can be used for many different purposes, including web development, scientific computing, data analysis, artificial intelligence, machine learning, and more.\n",
    "\n",
    "6. Interpreted language: Python is an interpreted language, which means that it can execute code without the need for a compiler. This makes it easier to develop and test code quickly.\n",
    "\n",
    "7. Open-source: Python is an open-source language, which means that the source code is freely available and can be modified and distributed by anyone. This encourages collaboration and innovation within the community.\n",
    "\n",
    "Overall, Python's ease of use, versatility, and large ecosystem make it a popular choice for a wide range of applications and industries, from education and research to finance and technology. '''"
   ]
  },
  {
   "cell_type": "markdown",
   "metadata": {
    "collapsed": false
   },
   "source": [
    "# QUESTION : 14"
   ]
  },
  {
   "cell_type": "code",
   "execution_count": 14,
   "metadata": {
    "ExecuteTime": {
     "end_time": "2023-04-21T05:01:00.013063Z",
     "start_time": "2023-04-21T05:00:58.991794Z"
    },
    "collapsed": false
   },
   "outputs": [
    {
     "data": {
      "text/plain": [
       "\" Ques 14. How is memory managed in python ?\\n\\nAns. Memory management in Python is handled by the Python interpreter, which uses a technique called reference counting. In reference counting, the interpreter keeps track of the number of references to each object in memory, and when an object's reference count reaches zero, it is automatically deleted.\\n\\nHowever, reference counting alone is not enough to handle all memory management needs, particularly when dealing with circular references (i.e., two or more objects that reference each other). To handle circular references, Python also uses a technique called garbage collection.\\n\\nGarbage collection is a process by which the interpreter periodically searches for and deletes any objects that are no longer being used by the program. This process is triggered automatically when the Python interpreter detects that the available memory is running low, or when the program explicitly requests a garbage collection using the gc.collect() function.\\n\\nIn addition to reference counting and garbage collection, Python also provides several tools and libraries for managing memory, including:\\n\\nThe sys.getsizeof() function, which returns the size of an object in memory.\\nThe tracemalloc module, which allows you to trace memory usage and identify memory leaks in your program.\\nThe gc module, which provides control over garbage collection settings and behavior.\\n\\nOverall, Python's automatic memory management system makes it easy to write programs without worrying about low-level memory management details, while still providing efficient and effective memory usage and designed to be automatic and transparent to the user, while still providing some control and flexibility when needed. \""
      ]
     },
     "execution_count": 14,
     "metadata": {},
     "output_type": "execute_result"
    }
   ],
   "source": [
    "''' Ques 14. How is memory managed in python ?\n",
    "\n",
    "Ans. Memory management in Python is handled by the Python interpreter, which uses a technique called reference counting. In reference counting, the interpreter keeps track of the number of references to each object in memory, and when an object's reference count reaches zero, it is automatically deleted.\n",
    "\n",
    "However, reference counting alone is not enough to handle all memory management needs, particularly when dealing with circular references (i.e., two or more objects that reference each other). To handle circular references, Python also uses a technique called garbage collection.\n",
    "\n",
    "Garbage collection is a process by which the interpreter periodically searches for and deletes any objects that are no longer being used by the program. This process is triggered automatically when the Python interpreter detects that the available memory is running low, or when the program explicitly requests a garbage collection using the gc.collect() function.\n",
    "\n",
    "In addition to reference counting and garbage collection, Python also provides several tools and libraries for managing memory, including:\n",
    "\n",
    "The sys.getsizeof() function, which returns the size of an object in memory.\n",
    "The tracemalloc module, which allows you to trace memory usage and identify memory leaks in your program.\n",
    "The gc module, which provides control over garbage collection settings and behavior.\n",
    "\n",
    "Overall, Python's automatic memory management system makes it easy to write programs without worrying about low-level memory management details, while still providing efficient and effective memory usage and designed to be automatic and transparent to the user, while still providing some control and flexibility when needed. '''"
   ]
  },
  {
   "cell_type": "markdown",
   "metadata": {
    "collapsed": false
   },
   "source": [
    "# QUESTION : 15"
   ]
  },
  {
   "cell_type": "code",
   "execution_count": 15,
   "metadata": {
    "ExecuteTime": {
     "end_time": "2023-04-21T05:01:00.045300Z",
     "start_time": "2023-04-21T05:00:59.022009Z"
    },
    "collapsed": false
   },
   "outputs": [
    {
     "data": {
      "text/plain": [
       "' Ques 15. How to install Python on windows and set path variables ?\\n\\nAns. Below are the steps to install Python on Windows and set path variables :\\n\\nDownload Python: Go to the official Python website at https://www.python.org/downloads/ and download the latest version of Python for Windows. Now we need to choose the appropriate installer based on the system architecture (32-bit or 64-bit) and the version of Python we want to install.\\n\\nRun the installer: Once we have downloaded the installer, double-click on it to run it. We need to follow the on-screen instructions to install Python on your system. Choose the options which we want to install and the location where we want to install Python.\\n\\nAdd Python to PATH: By default, Python is installed in the C:\\\\PythonXX folder (where XX is the version number), which is not added to the PATH environment variable. To add Python to the PATH, we need to follow the below steps:\\n\\na. Right-click on \"This PC\" and select \"Properties\".\\n\\nb. Click on \"Advanced system settings\".\\n\\nc. Click on \"Environment Variables\".\\n\\nd. Under \"System Variables\", scroll down and find \"Path\" and click \"Edit\".\\n\\ne. Click \"New\" and enter the path to the Python installation directory, for example, C:\\\\PythonXX or C:\\\\PythonXX\\\\Scripts (where XX is the version number). Click \"OK\" to close all the windows.\\n\\nVerify the installation: Open a Command Prompt and type python. If the installation was successful, then we should see the Python interpreter prompt, which looks like >>>. You can exit the interpreter by typing exit().\\n\\nCongratulations, we have successfully installed Python on Windows and set the PATH variables. '"
      ]
     },
     "execution_count": 15,
     "metadata": {},
     "output_type": "execute_result"
    }
   ],
   "source": [
    "''' Ques 15. How to install Python on windows and set path variables ?\n",
    "\n",
    "Ans. Below are the steps to install Python on Windows and set path variables :\n",
    "\n",
    "Download Python: Go to the official Python website at https://www.python.org/downloads/ and download the latest version of Python for Windows. Now we need to choose the appropriate installer based on the system architecture (32-bit or 64-bit) and the version of Python we want to install.\n",
    "\n",
    "Run the installer: Once we have downloaded the installer, double-click on it to run it. We need to follow the on-screen instructions to install Python on your system. Choose the options which we want to install and the location where we want to install Python.\n",
    "\n",
    "Add Python to PATH: By default, Python is installed in the C:\\PythonXX folder (where XX is the version number), which is not added to the PATH environment variable. To add Python to the PATH, we need to follow the below steps:\n",
    "\n",
    "a. Right-click on \"This PC\" and select \"Properties\".\n",
    "\n",
    "b. Click on \"Advanced system settings\".\n",
    "\n",
    "c. Click on \"Environment Variables\".\n",
    "\n",
    "d. Under \"System Variables\", scroll down and find \"Path\" and click \"Edit\".\n",
    "\n",
    "e. Click \"New\" and enter the path to the Python installation directory, for example, C:\\PythonXX or C:\\PythonXX\\Scripts (where XX is the version number). Click \"OK\" to close all the windows.\n",
    "\n",
    "Verify the installation: Open a Command Prompt and type python. If the installation was successful, then we should see the Python interpreter prompt, which looks like >>>. You can exit the interpreter by typing exit().\n",
    "\n",
    "Congratulations, we have successfully installed Python on Windows and set the PATH variables. '''"
   ]
  },
  {
   "cell_type": "markdown",
   "metadata": {
    "collapsed": false
   },
   "source": [
    "# QUESTION : 16"
   ]
  },
  {
   "cell_type": "code",
   "execution_count": 16,
   "metadata": {
    "ExecuteTime": {
     "end_time": "2023-04-21T05:01:00.071951Z",
     "start_time": "2023-04-21T05:00:59.052231Z"
    },
    "collapsed": false
   },
   "outputs": [
    {
     "data": {
      "text/plain": [
       "' Ques 16. Is indentation required in python ?\\n\\nAns. Yes, indentation is required in Python. Unlike other programming languages that use curly braces or keywords to denote code blocks, Python uses whitespace indentation to group statements into code blocks.\\n\\nIn Python, a block of code is defined by its indentation level. All statements within the same block must have the same indentation level. The standard indentation level in Python is four spaces, although we can use a different number of spaces or a tab character, as long as we are consistent.\\n\\nHere\\'s an example of a code block in Python using indentation :\\nif x > 0:\\n    print(\"x is positive\")\\nelse:\\n    print(\"x is zero or negative\")\\n\\nIn this example, the if statement and the else statement are in different code blocks. The if block is indented with four spaces, and the else block is also indented with four spaces.\\n\\nIndentation in Python is important for maintaining readability and consistency in our code. It also helps to avoid errors that can occur when mixing different indentation styles or when using the wrong number of spaces.\\n\\nSo, it is important to maintain the correct indentation in Python to ensure the correct execution of the code. '"
      ]
     },
     "execution_count": 16,
     "metadata": {},
     "output_type": "execute_result"
    }
   ],
   "source": [
    "''' Ques 16. Is indentation required in python ?\n",
    "\n",
    "Ans. Yes, indentation is required in Python. Unlike other programming languages that use curly braces or keywords to denote code blocks, Python uses whitespace indentation to group statements into code blocks.\n",
    "\n",
    "In Python, a block of code is defined by its indentation level. All statements within the same block must have the same indentation level. The standard indentation level in Python is four spaces, although we can use a different number of spaces or a tab character, as long as we are consistent.\n",
    "\n",
    "Here's an example of a code block in Python using indentation :\n",
    "if x > 0:\n",
    "    print(\"x is positive\")\n",
    "else:\n",
    "    print(\"x is zero or negative\")\n",
    "\n",
    "In this example, the if statement and the else statement are in different code blocks. The if block is indented with four spaces, and the else block is also indented with four spaces.\n",
    "\n",
    "Indentation in Python is important for maintaining readability and consistency in our code. It also helps to avoid errors that can occur when mixing different indentation styles or when using the wrong number of spaces.\n",
    "\n",
    "So, it is important to maintain the correct indentation in Python to ensure the correct execution of the code. '''"
   ]
  },
  {
   "cell_type": "markdown",
   "metadata": {
    "collapsed": false
   },
   "source": [
    "# --------------------- Assignment Solutions ends here ---------------------"
   ]
  }
 ],
 "metadata": {
  "kernelspec": {
   "display_name": "Python 3",
   "language": "python",
   "name": "python3"
  },
  "language_info": {
   "codemirror_mode": {
    "name": "ipython",
    "version": 3
   },
   "file_extension": ".py",
   "mimetype": "text/x-python",
   "name": "python",
   "nbconvert_exporter": "python",
   "pygments_lexer": "ipython3",
   "version": "3.10.4"
  }
 },
 "nbformat": 4,
 "nbformat_minor": 0
}
